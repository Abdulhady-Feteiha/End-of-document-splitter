{
  "nbformat": 4,
  "nbformat_minor": 0,
  "metadata": {
    "accelerator": "GPU",
    "colab": {
      "name": "Combined_LSTM_with_CNN_EOD (4).ipynb",
      "provenance": [],
      "collapsed_sections": [],
      "machine_shape": "hm",
      "include_colab_link": true
    },
    "kernelspec": {
      "display_name": "Python 3",
      "language": "python",
      "name": "python3"
    },
    "language_info": {
      "codemirror_mode": {
        "name": "ipython",
        "version": 3
      },
      "file_extension": ".py",
      "mimetype": "text/x-python",
      "name": "python",
      "nbconvert_exporter": "python",
      "pygments_lexer": "ipython3",
      "version": "3.5.3"
    }
  },
  "cells": [
    {
      "cell_type": "markdown",
      "metadata": {
        "id": "view-in-github",
        "colab_type": "text"
      },
      "source": [
        "<a href=\"https://colab.research.google.com/github/Abdulhady-Feteiha/End-of-document-splitter/blob/main/Combined_LSTM_with_CNN_EOD_(4).ipynb\" target=\"_parent\"><img src=\"https://colab.research.google.com/assets/colab-badge.svg\" alt=\"Open In Colab\"/></a>"
      ]
    },
    {
      "cell_type": "code",
      "metadata": {
        "id": "UGdu8sv5OmSX",
        "outputId": "4b0dbd4d-fbee-4a96-ae57-60dc2289c85c",
        "colab": {
          "base_uri": "https://localhost:8080/",
          "height": 185
        }
      },
      "source": [
        "import cv2 as cv\n",
        "import pandas as pd\n",
        "from glob import glob\n",
        "import numpy as np\n",
        "from matplotlib import pyplot as plt\n",
        "from sklearn.model_selection import train_test_split\n",
        "from keras.models import Sequential, Model\n",
        "from keras.layers import Input, Dense,concatenate, Dropout,LeakyReLU,Conv2D,MaxPooling2D,Dropout,Flatten,TimeDistributed,LSTM\n",
        "from keras.optimizers import Adam\n",
        "from sklearn.metrics import f1_score, precision_score, recall_score, confusion_matrix\n",
        "from sklearn.preprocessing import normalize\n",
        "from keras.utils import to_categorical\n",
        "from keras.callbacks import EarlyStopping,ModelCheckpoint\n",
        "\n",
        "from math import floor\n",
        "from PIL import Image, ImageFile,ImageOps\n",
        "from urllib.request import urlopen\n",
        "\n",
        "import keras\n",
        "from keras import backend as K\n",
        "from keras.applications.resnet50 import ResNet50\n",
        "from keras.applications.resnet50 import preprocess_input\n",
        "\n"
      ],
      "execution_count": null,
      "outputs": [
        {
          "output_type": "stream",
          "text": [
            "Using TensorFlow backend.\n"
          ],
          "name": "stderr"
        }
      ]
    },
    {
      "cell_type": "code",
      "metadata": {
        "id": "1kot09NPQosn"
      },
      "source": [
        "import tensorflow as tf\n",
        "from keras import backend as K\n",
        "\n",
        "def f1(y_true, y_pred):\n",
        "    p=tf.dtypes.cast((K.argmax(y_pred,axis=1)),tf.float32)\n",
        "    t=tf.dtypes.cast((K.argmax(y_true,axis=1)),tf.float32)\n",
        "    def recall(y_true, y_pred):\n",
        "        true_positives = K.sum(p*t)\n",
        "        possible_positives = K.sum(t)\n",
        "        recall = true_positives / (possible_positives+ K.epsilon() )\n",
        "        return recall\n",
        "\n",
        "    def precision(y_true, y_pred):\n",
        "        true_positives = K.sum(p*t)\n",
        "        predicted_positives = K.sum(p)\n",
        "        precision = true_positives / (predicted_positives + K.epsilon())\n",
        "        return precision\n",
        "    precision = precision(y_true, y_pred)\n",
        "    recall = recall(y_true, y_pred)\n",
        "    return 2*((precision*recall)/(precision+recall+K.epsilon()))"
      ],
      "execution_count": null,
      "outputs": []
    },
    {
      "cell_type": "code",
      "metadata": {
        "id": "sL4smEKdQosp"
      },
      "source": [
        "def chopper(Dataset,window_size):\n",
        "  chop=list(range(window_size))\n",
        "  chDataset=np.delete(Dataset,chop,0)\n",
        "  return chDataset"
      ],
      "execution_count": null,
      "outputs": []
    },
    {
      "cell_type": "code",
      "metadata": {
        "id": "At6foQi9fkne"
      },
      "source": [
        "def sequencer(Dataset,window_size):\n",
        "  sample=0\n",
        "  sDataset=[]\n",
        "  SDataset=[]\n",
        "  while sample<len(Dataset)-window_size:\n",
        "    for time_step in range(window_size):\n",
        "      \n",
        "      sDataset.append(Dataset[sample+time_step,:,:])\n",
        "    \n",
        "    sample+=1\n",
        "    SDataset.append(sDataset)\n",
        "    sDataset=[]\n",
        "    \n",
        "  return SDataset"
      ],
      "execution_count": null,
      "outputs": []
    },
    {
      "cell_type": "code",
      "metadata": {
        "id": "3IV5fP2PQosv",
        "outputId": "0827d4f7-ad14-47cf-d927-3b8eda6a1005"
      },
      "source": [
        "data_path = 'Train_Dataset.txt'\n",
        "Train_shape = (38775, 100, 100)\n",
        "\n",
        "Train_DS = np.loadtxt(data_path)\n",
        "print (Train_DS.shape)\n",
        "Train_DS = Train_DS.reshape(Train_shape)\n",
        "print (Train_DS.shape)\n"
      ],
      "execution_count": null,
      "outputs": [
        {
          "output_type": "stream",
          "text": [
            "(3877500, 100)\n",
            "(38775, 100, 100)\n"
          ],
          "name": "stdout"
        }
      ]
    },
    {
      "cell_type": "code",
      "metadata": {
        "id": "zbRv80nNQosx",
        "outputId": "effd6f4d-f952-4e91-83f7-b35404d7594a"
      },
      "source": [
        "data_path = 'Test_Dataset.txt'\n",
        "Test_shape = (9395, 100, 100)\n",
        "\n",
        "Test_DS = np.loadtxt(data_path)\n",
        "print (Test_DS.shape)\n",
        "Test_DS = Test_DS.reshape(Test_shape)\n",
        "print (Test_DS.shape)"
      ],
      "execution_count": null,
      "outputs": [
        {
          "output_type": "stream",
          "text": [
            "(939500, 100)\n",
            "(9395, 100, 100)\n"
          ],
          "name": "stdout"
        }
      ]
    },
    {
      "cell_type": "markdown",
      "metadata": {
        "id": "5U8x6PyFXYIr"
      },
      "source": [
        "# LSTM Model\n"
      ]
    },
    {
      "cell_type": "code",
      "metadata": {
        "id": "TUjEL56XQos2"
      },
      "source": [
        "window_size=3"
      ],
      "execution_count": null,
      "outputs": []
    },
    {
      "cell_type": "code",
      "metadata": {
        "id": "Nl80iY6R9RDB"
      },
      "source": [
        "# Tr_chDataset=chopper(Train_DS,window_size)\n",
        "# Tr_chDataset.shape\n"
      ],
      "execution_count": null,
      "outputs": []
    },
    {
      "cell_type": "code",
      "metadata": {
        "id": "N9AkMyLCQos8"
      },
      "source": [
        "# Ts_chDataset=chopper(Test_DS,window_size)\n",
        "# Ts_chDataset.shape\n"
      ],
      "execution_count": null,
      "outputs": []
    },
    {
      "cell_type": "code",
      "metadata": {
        "id": "AnE0KpxIgb5j"
      },
      "source": [
        "Tr_Dataset=sequencer(Train_DS,window_size)\n",
        "Tr_DatasetLSTM=np.asarray(Tr_Dataset)\n",
        "Tr_DatasetLSTM.shape\n",
        "del Tr_Dataset"
      ],
      "execution_count": null,
      "outputs": []
    },
    {
      "cell_type": "code",
      "metadata": {
        "id": "6LDzKaGdQotB"
      },
      "source": [
        "Ts_Dataset=sequencer(Test_DS,window_size)\n",
        "Ts_DatasetLSTM=np.asarray(Ts_Dataset)\n",
        "Ts_DatasetLSTM.shape\n",
        "del Ts_Dataset"
      ],
      "execution_count": null,
      "outputs": []
    },
    {
      "cell_type": "code",
      "metadata": {
        "id": "j9eF8KgV24o-"
      },
      "source": [
        "# window_size=3\n",
        "InLSTM = Input(shape=(3,100,100,1))\n",
        "ConvLSTM1 = TimeDistributed(Conv2D(32, kernel_size=(7,7),activation='relu'),name=\"Conv2d_1\")(InLSTM)\n",
        "PoolLSTM1 = TimeDistributed(MaxPooling2D(pool_size=(2, 2)),name=\"MaxPooling2D_1\")(ConvLSTM1)\n",
        "DropoutLSTM1 = TimeDistributed(Dropout(0.25),name=\"Dropout_1\")(PoolLSTM1)\n",
        "ConvLSTM2 = TimeDistributed(Conv2D(32, kernel_size=(5,5),activation='relu'),name=\"Conv2d_2\")(DropoutLSTM1)\n",
        "PoolLSTM2 = TimeDistributed(MaxPooling2D(pool_size=(2, 2)),name=\"MaxPooling2D_2\")(ConvLSTM2)\n",
        "DropoutLSTM2 = TimeDistributed(Dropout(0.5),name=\"Dropout_2\")(PoolLSTM2)\n",
        "FlatLSTM = TimeDistributed(Flatten(),name=\"Flatten_1\")(DropoutLSTM2)\n",
        "Lstm = LSTM(32, activation='relu',dropout=0.5)(FlatLSTM)\n",
        "OutLSTM = Dense(2,activation='softmax') (Lstm)\n",
        "\n",
        "\n"
      ],
      "execution_count": null,
      "outputs": []
    },
    {
      "cell_type": "markdown",
      "metadata": {
        "id": "2pY6253gXfyb"
      },
      "source": [
        "# CNN Model"
      ]
    },
    {
      "cell_type": "code",
      "metadata": {
        "id": "hOMpe7RDg6ZD",
        "outputId": "e4162860-0036-4f08-d6af-3020193dd471",
        "colab": {
          "base_uri": "https://localhost:8080/",
          "height": 34
        }
      },
      "source": [
        "Tr_DatasetCNN = chopper(Train_DS,window_size)\n",
        "Tr_DatasetCNN.shape\n",
        "# del Train_DS"
      ],
      "execution_count": null,
      "outputs": [
        {
          "output_type": "execute_result",
          "data": {
            "text/plain": [
              "(38772, 100, 100)"
            ]
          },
          "metadata": {
            "tags": []
          },
          "execution_count": 32
        }
      ]
    },
    {
      "cell_type": "code",
      "metadata": {
        "id": "wzkBp6_dQotK",
        "outputId": "369b1665-ab1f-4593-ca10-ff319c8ecd79"
      },
      "source": [
        "Ts_DatasetCNN = chopper(Test_DS,window_size)\n",
        "Ts_DatasetCNN.shape\n",
        "# del Test_DS"
      ],
      "execution_count": null,
      "outputs": [
        {
          "output_type": "execute_result",
          "data": {
            "text/plain": [
              "(9392, 100, 100)"
            ]
          },
          "metadata": {
            "tags": []
          },
          "execution_count": 33
        }
      ]
    },
    {
      "cell_type": "code",
      "metadata": {
        "id": "tCA6kk5LR-fQ"
      },
      "source": [
        "\n",
        "InCNN = Input(shape=(100,100,1))\n",
        "Conv1 = Conv2D(32, kernel_size=(11,11),activation='relu')(InCNN)\n",
        "Pool1=MaxPooling2D(pool_size=(2, 2))(Conv1)\n",
        "Conv2 = Conv2D(64, (5, 5), activation='relu')(Conv1)\n",
        "Pool2 = MaxPooling2D(pool_size=(2, 2))(Conv2)\n",
        "Drop = Dropout(0.5)(Pool2)\n",
        "Flat = Flatten()(Drop)\n",
        "Dense1 = Dense(128, activation='relu')(Flat)\n",
        "DenseDrop = Dropout(0.5)(Dense1)\n",
        "OutCNN = Dense(2, activation='softmax')(DenseDrop)"
      ],
      "execution_count": null,
      "outputs": []
    },
    {
      "cell_type": "markdown",
      "metadata": {
        "id": "5b3zDkavY7PF"
      },
      "source": [
        "# Main Model"
      ]
    },
    {
      "cell_type": "code",
      "metadata": {
        "id": "uIbBLx8JPEDK"
      },
      "source": [
        "# labels=np.zeros((len(Tr_Dataset),1))\n",
        "\n",
        "labels=np.zeros((38772,1))\n",
        "\n",
        "df = pd.read_csv('9091.csv') \n",
        "\n",
        "EOD=np.asarray(df['Page#'],dtype=int)\n",
        "EOD=EOD-1\n",
        "for e in EOD:\n",
        "  if e >window_size-1:\n",
        "    labels[EOD-window_size]=1\n",
        "Train_labels_cat = to_categorical(labels,2)\n",
        "\n",
        "del labels\n",
        "del df\n",
        "del EOD"
      ],
      "execution_count": null,
      "outputs": []
    },
    {
      "cell_type": "code",
      "metadata": {
        "id": "AtEVIvyfQotT",
        "outputId": "41c5a80a-eba1-4ee1-ec90-c1158b4616f3"
      },
      "source": [
        "# labels=np.zeros((len(Ts_Dataset),1))\n",
        "labels=np.zeros((9392,1))\n",
        "\n",
        "df = pd.read_csv('2000.csv') \n",
        "\n",
        "EOD=np.asarray(df['Page#'],dtype=int)\n",
        "EOD=EOD-1\n",
        "for e in EOD:\n",
        "  if e >window_size-1:\n",
        "    labels[EOD-window_size]=1\n",
        "Test_labels_cat = to_categorical(labels,2)\n",
        "\n",
        "print(EOD)\n",
        "\n",
        "del labels\n",
        "del df\n",
        "del EOD"
      ],
      "execution_count": null,
      "outputs": [
        {
          "output_type": "stream",
          "text": [
            "[   5   10   14 ... 9386 9389 9394]\n"
          ],
          "name": "stdout"
        }
      ]
    },
    {
      "cell_type": "code",
      "metadata": {
        "id": "-z7aNYgyQotV",
        "outputId": "69fd7709-cb01-4f8f-9e19-db44e4ecf333"
      },
      "source": [
        "len(Train_labels_cat)"
      ],
      "execution_count": null,
      "outputs": [
        {
          "output_type": "execute_result",
          "data": {
            "text/plain": [
              "38772"
            ]
          },
          "metadata": {
            "tags": []
          },
          "execution_count": 39
        }
      ]
    },
    {
      "cell_type": "code",
      "metadata": {
        "id": "1ejDy41yQotX",
        "outputId": "7aa9fd68-2577-4caf-d209-0773a8025385"
      },
      "source": [
        "len(Test_labels_cat)"
      ],
      "execution_count": null,
      "outputs": [
        {
          "output_type": "execute_result",
          "data": {
            "text/plain": [
              "9392"
            ]
          },
          "metadata": {
            "tags": []
          },
          "execution_count": 40
        }
      ]
    },
    {
      "cell_type": "code",
      "metadata": {
        "id": "QEEe7KOtygOn"
      },
      "source": [
        "\n",
        "X_trainCNN, X_valiCNN,X_trainLSTM, X_valiLSTM, y_train, y_vali = train_test_split(Tr_DatasetCNN,Tr_DatasetLSTM, Train_labels_cat,shuffle=True)\n",
        "\n",
        "\n",
        "X_trainCNN=np.reshape(X_trainCNN,(X_trainCNN.shape[0],X_trainCNN.shape[1],X_trainCNN.shape[2],1))\n",
        "X_valiCNN=np.reshape(X_valiCNN,(X_valiCNN.shape[0],X_valiCNN.shape[1],X_valiCNN.shape[2],1))\n",
        "X_testCNN=np.reshape(Ts_DatasetCNN,(Ts_DatasetCNN.shape[0],Ts_DatasetCNN.shape[1],Ts_DatasetCNN.shape[2],1))\n",
        "\n",
        "\n",
        "X_trainLSTM=np.reshape(X_trainLSTM,(X_trainLSTM.shape[0],X_trainLSTM.shape[1],X_trainLSTM.shape[2],X_trainLSTM.shape[3],1))\n",
        "X_valiLSTM=np.reshape(X_valiLSTM,(X_valiLSTM.shape[0],X_valiLSTM.shape[1],X_valiLSTM.shape[2],X_valiLSTM.shape[3],1))\n",
        "X_testLSTM=np.reshape(Ts_DatasetLSTM,(Ts_DatasetLSTM.shape[0],Ts_DatasetLSTM.shape[1],Ts_DatasetLSTM.shape[2],Ts_DatasetLSTM.shape[3],1))\n"
      ],
      "execution_count": null,
      "outputs": []
    },
    {
      "cell_type": "code",
      "metadata": {
        "id": "6EmG6eqOY-R1",
        "outputId": "08336811-8acf-4e42-c3c7-7ea31166c83a"
      },
      "source": [
        "LstmCnn = concatenate([Lstm, Flat])\n",
        "densef = Dense(32,activation=\"relu\")(LstmCnn)\n",
        "dropf = Dropout(0.5)(densef)\n",
        "OutMainModel = Dense(2,activation=\"softmax\")(dropf)\n",
        "MainModel = Model(inputs=[InLSTM,InCNN], outputs=OutMainModel)\n",
        "MainModel.compile(loss='categorical_crossentropy',optimizer='adam',metrics=['acc',f1])\n",
        "from tensorflow.keras.utils import plot_model\n",
        "plot_model(MainModel, to_file='model.png')"
      ],
      "execution_count": null,
      "outputs": [
        {
          "output_type": "execute_result",
          "data": {
            "image/png": "[encoded data removed]",
            "text/plain": [
              "<IPython.core.display.Image object>"
            ]
          },
          "metadata": {
            "tags": []
          },
          "execution_count": 43
        }
      ]
    },
    {
      "cell_type": "code",
      "metadata": {
        "id": "_laU_JMl2FPF"
      },
      "source": [
        "cp= ModelCheckpoint('model-{epoch:03d}-{f1:03f}-{val_f1:03f}.h5', verbose=1, monitor='val_f1',save_best_only=True, mode='max')  \n",
        "es=EarlyStopping(monitor='val_f1', min_delta=0.01, patience=10, verbose=0, mode='max', baseline=None, restore_best_weights=False)\n"
      ],
      "execution_count": null,
      "outputs": []
    },
    {
      "cell_type": "code",
      "metadata": {
        "id": "2CYJ_1XIbrq5",
        "outputId": "d1647c80-3f6a-43d5-cb45-13758bf37e1a",
        "colab": {
          "base_uri": "https://localhost:8080/",
          "height": 714
        }
      },
      "source": [
        "run=MainModel.fit([X_trainLSTM,X_trainCNN],y_train,batch_size=32,epochs=50,verbose=1,shuffle=True,validation_data=([X_valiLSTM,X_valiCNN],y_vali),callbacks=[es,cp])\n",
        "#run=MainModel.fit([X_trainLSTM,X_trainCNN],y_train,batch_size=32,epochs=10,verbose=1,shuffle=True,validation_data=([X_testLSTM,X_testCNN],y_test))\n",
        "\n",
        "#try batch size [8,128]"
      ],
      "execution_count": null,
      "outputs": [
        {
          "output_type": "stream",
          "text": [
            "Train on 29078 samples, validate on 9693 samples\n",
            "Epoch 1/50\n",
            "29078/29078 [==============================] - 51s 2ms/step - loss: 0.2797 - acc: 0.8995 - f1: 0.7177 - val_loss: 0.1657 - val_acc: 0.9326 - val_f1: 0.8469\n",
            "\n",
            "Epoch 00001: val_f1 improved from -inf to 0.84686, saving model to model-001-0.717684-0.846855.h5\n",
            "Epoch 2/50\n",
            "29078/29078 [==============================] - 42s 1ms/step - loss: 0.1789 - acc: 0.9365 - f1: 0.8500 - val_loss: 0.1317 - val_acc: 0.9493 - val_f1: 0.8848\n",
            "\n",
            "Epoch 00002: val_f1 improved from 0.84686 to 0.88480, saving model to model-002-0.850019-0.884802.h5\n",
            "Epoch 3/50\n",
            "29078/29078 [==============================] - 42s 1ms/step - loss: 0.1399 - acc: 0.9515 - f1: 0.8866 - val_loss: 0.1155 - val_acc: 0.9563 - val_f1: 0.9035\n",
            "\n",
            "Epoch 00003: val_f1 improved from 0.88480 to 0.90347, saving model to model-003-0.886577-0.903466.h5\n",
            "Epoch 4/50\n",
            "29078/29078 [==============================] - 42s 1ms/step - loss: 0.1197 - acc: 0.9568 - f1: 0.8994 - val_loss: 0.1116 - val_acc: 0.9566 - val_f1: 0.9047\n",
            "\n",
            "Epoch 00004: val_f1 improved from 0.90347 to 0.90474, saving model to model-004-0.899405-0.904736.h5\n",
            "Epoch 5/50\n",
            "29078/29078 [==============================] - 42s 1ms/step - loss: 0.1011 - acc: 0.9637 - f1: 0.9171 - val_loss: 0.1310 - val_acc: 0.9595 - val_f1: 0.9074\n",
            "\n",
            "Epoch 00005: val_f1 improved from 0.90474 to 0.90745, saving model to model-005-0.917080-0.907449.h5\n",
            "Epoch 6/50\n",
            "29078/29078 [==============================] - 42s 1ms/step - loss: 0.0956 - acc: 0.9649 - f1: 0.9202 - val_loss: 0.1151 - val_acc: 0.9557 - val_f1: 0.9050\n",
            "\n",
            "Epoch 00006: val_f1 did not improve from 0.90745\n",
            "Epoch 7/50\n",
            "29078/29078 [==============================] - 42s 1ms/step - loss: 0.0801 - acc: 0.9710 - f1: 0.9318 - val_loss: 0.1261 - val_acc: 0.9626 - val_f1: 0.9163\n",
            "\n",
            "Epoch 00007: val_f1 improved from 0.90745 to 0.91634, saving model to model-007-0.931810-0.916338.h5\n",
            "Epoch 8/50\n",
            "29078/29078 [==============================] - 42s 1ms/step - loss: 0.0738 - acc: 0.9744 - f1: 0.9421 - val_loss: 0.1227 - val_acc: 0.9602 - val_f1: 0.9109\n",
            "\n",
            "Epoch 00008: val_f1 did not improve from 0.91634\n",
            "Epoch 9/50\n",
            "29078/29078 [==============================] - 42s 1ms/step - loss: 0.0688 - acc: 0.9756 - f1: 0.9442 - val_loss: 0.1340 - val_acc: 0.9627 - val_f1: 0.9161\n",
            "\n",
            "Epoch 00009: val_f1 did not improve from 0.91634\n",
            "Epoch 10/50\n",
            "29078/29078 [==============================] - 42s 1ms/step - loss: 0.0601 - acc: 0.9791 - f1: 0.9527 - val_loss: 0.1346 - val_acc: 0.9613 - val_f1: 0.9161\n",
            "\n",
            "Epoch 00010: val_f1 did not improve from 0.91634\n",
            "Epoch 11/50\n",
            "29078/29078 [==============================] - 42s 1ms/step - loss: 0.0528 - acc: 0.9825 - f1: 0.9599 - val_loss: 0.1547 - val_acc: 0.9626 - val_f1: 0.9183\n",
            "\n",
            "Epoch 00011: val_f1 improved from 0.91634 to 0.91834, saving model to model-011-0.959899-0.918336.h5\n",
            "Epoch 12/50\n",
            "29078/29078 [==============================] - 42s 1ms/step - loss: 0.0555 - acc: 0.9803 - f1: 0.9551 - val_loss: 0.1581 - val_acc: 0.9645 - val_f1: 0.9224\n",
            "\n",
            "Epoch 00012: val_f1 improved from 0.91834 to 0.92240, saving model to model-012-0.955056-0.922401.h5\n",
            "Epoch 13/50\n",
            "29078/29078 [==============================] - 42s 1ms/step - loss: 0.0526 - acc: 0.9810 - f1: 0.9575 - val_loss: 0.1313 - val_acc: 0.9622 - val_f1: 0.9179\n",
            "\n",
            "Epoch 00013: val_f1 did not improve from 0.92240\n",
            "Epoch 14/50\n",
            "29078/29078 [==============================] - 42s 1ms/step - loss: 0.0435 - acc: 0.9850 - f1: 0.9662 - val_loss: 0.1366 - val_acc: 0.9605 - val_f1: 0.9165\n",
            "\n",
            "Epoch 00014: val_f1 did not improve from 0.92240\n",
            "Epoch 15/50\n",
            "29078/29078 [==============================] - 42s 1ms/step - loss: 0.0402 - acc: 0.9858 - f1: 0.9678 - val_loss: 0.1700 - val_acc: 0.9640 - val_f1: 0.9208\n",
            "\n",
            "Epoch 00015: val_f1 did not improve from 0.92240\n",
            "Epoch 16/50\n",
            "29078/29078 [==============================] - 42s 1ms/step - loss: 0.0424 - acc: 0.9854 - f1: 0.9665 - val_loss: 0.1797 - val_acc: 0.9640 - val_f1: 0.9213\n",
            "\n",
            "Epoch 00016: val_f1 did not improve from 0.92240\n",
            "Epoch 17/50\n",
            "29078/29078 [==============================] - 42s 1ms/step - loss: 0.0389 - acc: 0.9867 - f1: 0.9689 - val_loss: 0.1694 - val_acc: 0.9654 - val_f1: 0.9238\n",
            "\n",
            "Epoch 00017: val_f1 improved from 0.92240 to 0.92381, saving model to model-017-0.968924-0.923805.h5\n"
          ],
          "name": "stdout"
        }
      ]
    },
    {
      "cell_type": "code",
      "metadata": {
        "id": "dLDDjhef5eYE",
        "outputId": "2610d41d-270f-453b-a5b4-af6e52c61a06",
        "colab": {
          "base_uri": "https://localhost:8080/",
          "height": 51
        }
      },
      "source": [
        "MainModel.load_weights(\"model-012-0.955056-0.922401.h5\")\n",
        "print(\"Validation\")\n",
        "MainModel.evaluate([X_valiLSTM,X_valiCNN],y_vali)"
      ],
      "execution_count": null,
      "outputs": [
        {
          "output_type": "stream",
          "text": [
            "Validation\n",
            "9693/9693 [==============================] - 5s 566us/step\n"
          ],
          "name": "stdout"
        },
        {
          "output_type": "execute_result",
          "data": {
            "text/plain": [
              "[0.15806542750780841, 0.9645105004310608, 0.9224014282226562]"
            ]
          },
          "metadata": {
            "tags": []
          },
          "execution_count": 29
        }
      ]
    },
    {
      "cell_type": "code",
      "metadata": {
        "id": "mEkc4OZS3_MW",
        "outputId": "4c4a3211-7bcc-4df1-9320-7ad66f0b4439",
        "colab": {
          "base_uri": "https://localhost:8080/",
          "height": 51
        }
      },
      "source": [
        "print(\"Testing\")\n",
        "MainModel.evaluate([X_testLSTM,X_testCNN],Test_labels_cat)"
      ],
      "execution_count": null,
      "outputs": [
        {
          "output_type": "stream",
          "text": [
            "Testing\n",
            "9391/9391 [==============================] - 5s 570us/step\n"
          ],
          "name": "stdout"
        },
        {
          "output_type": "execute_result",
          "data": {
            "text/plain": [
              "[0.15904076308706722, 0.963262677192688, 0.9022989869117737]"
            ]
          },
          "metadata": {
            "tags": []
          },
          "execution_count": 30
        }
      ]
    },
    {
      "cell_type": "code",
      "metadata": {
        "id": "oKiC-m2Eozxz",
        "outputId": "42aa9872-7336-487f-824a-657df23d6680",
        "colab": {
          "base_uri": "https://localhost:8080/",
          "height": 68
        }
      },
      "source": [
        "print(\"Validation\")\n",
        "y_pred1 = MainModel.predict([X_valiLSTM,X_valiCNN])\n",
        "y_pred = np.argmax(y_pred1, axis=1)\n",
        "y_pred=to_categorical(y_pred)\n",
        "print(\"precision[NO, YES]: \",precision_score(y_vali, y_pred , average=None))\n",
        "print(\"recall[NO, YES]: \", recall_score(y_vali, y_pred , average=None))\n",
        "print(\"f1[NO, YES]: \", f1_score(y_vali, y_pred , average=None))"
      ],
      "execution_count": null,
      "outputs": [
        {
          "output_type": "stream",
          "text": [
            "Validation\n",
            "precision[NO, YES]:  [0.97438317 0.93233743]\n",
            "recall[NO, YES]:  [0.97913562 0.91782007]\n",
            "f1[NO, YES]:  [0.97675362 0.9250218 ]\n"
          ],
          "name": "stdout"
        }
      ]
    },
    {
      "cell_type": "code",
      "metadata": {
        "id": "3M6vsA_dQoto",
        "outputId": "e79e0c4d-64a9-4899-e6f7-42424a95952c"
      },
      "source": [
        "print(\"Testing\")\n",
        "y_pred1 = MainModel.predict([X_testLSTM,X_testCNN])\n",
        "y_pred = np.argmax(y_pred1, axis=1)\n",
        "y_pred=to_categorical(y_pred)\n",
        "print(\"precision[NO, YES]: \",precision_score(Test_labels_cat, y_pred , average=None))\n",
        "print(\"recall[NO, YES]: \", recall_score(Test_labels_cat, y_pred , average=None))\n",
        "print(\"f1[NO, YES]: \", f1_score(Test_labels_cat, y_pred , average=None))"
      ],
      "execution_count": null,
      "outputs": [
        {
          "output_type": "stream",
          "text": [
            "Testing\n",
            "precision[NO, YES]:  [0.97711268 0.91230693]\n",
            "recall[NO, YES]:  [0.97618725 0.9155    ]\n",
            "f1[NO, YES]:  [0.97664975 0.91390067]\n"
          ],
          "name": "stdout"
        }
      ]
    },
    {
      "cell_type": "code",
      "metadata": {
        "id": "BpSIrdU8mNWe"
      },
      "source": [
        ""
      ],
      "execution_count": null,
      "outputs": []
    }
  ]
}